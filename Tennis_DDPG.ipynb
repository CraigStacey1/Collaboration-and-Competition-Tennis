{
 "cells": [
  {
   "cell_type": "markdown",
   "metadata": {},
   "source": [
    "# Competition and Collaboration\n",
    "## Udacity Deep Reinforcement Learning project 3\n",
    "\n",
    "### Import Used Libraries"
   ]
  },
  {
   "cell_type": "code",
   "execution_count": 1,
   "metadata": {},
   "outputs": [],
   "source": [
    "import torch\n",
    "import numpy as np\n",
    "import matplotlib as plt\n",
    "from unityagents import UnityEnvironment"
   ]
  },
  {
   "cell_type": "markdown",
   "metadata": {},
   "source": [
    "### Check for Graphics Card"
   ]
  },
  {
   "cell_type": "code",
   "execution_count": 2,
   "metadata": {},
   "outputs": [
    {
     "name": "stdout",
     "output_type": "stream",
     "text": [
      "Devices Available:\n",
      "0 :  GeForce GTX 970\n",
      "\n",
      "Current Device in use is Device # 0 :  GeForce GTX 970\n"
     ]
    }
   ],
   "source": [
    "# Check Cuda is available\n",
    "if torch.cuda.is_available():\n",
    "    # Get Device Count\n",
    "    GPUCount = torch.cuda.device_count()\n",
    "    \n",
    "    # Print Device Names\n",
    "    print(\"Devices Available:\")\n",
    "    for i in range(0, GPUCount):\n",
    "        print(i,\": \", torch.cuda.get_device_name(i))\n",
    "\n",
    "    # Check Current Device and Print Explicit Message\n",
    "    print(\"\\nCurrent Device in use is Device #\",\n",
    "          torch.cuda.current_device(),\": \",\n",
    "          torch.cuda.get_device_name(torch.cuda.current_device()))\n",
    "    \n",
    "    device = torch.device(\"cuda:0\")\n",
    "    \n",
    "else:\n",
    "    device = torch.device(\"cpu\")\n",
    "    print(\"CUDA Not Available!\\nWill Train on CPU\")"
   ]
  },
  {
   "cell_type": "markdown",
   "metadata": {},
   "source": [
    "### Load Tennis Environment"
   ]
  },
  {
   "cell_type": "code",
   "execution_count": 3,
   "metadata": {},
   "outputs": [
    {
     "name": "stderr",
     "output_type": "stream",
     "text": [
      "INFO:unityagents:\n",
      "'Academy' started successfully!\n",
      "Unity Academy name: Academy\n",
      "        Number of Brains: 1\n",
      "        Number of External Brains : 1\n",
      "        Lesson number : 0\n",
      "        Reset Parameters :\n",
      "\t\t\n",
      "Unity brain name: TennisBrain\n",
      "        Number of Visual Observations (per agent): 0\n",
      "        Vector Observation space type: continuous\n",
      "        Vector Observation space size (per agent): 8\n",
      "        Number of stacked Vector Observation: 3\n",
      "        Vector Action space type: continuous\n",
      "        Vector Action space size (per agent): 2\n",
      "        Vector Action descriptions: , \n"
     ]
    }
   ],
   "source": [
    "env = UnityEnvironment(file_name=\"Tennis_Windows_x86_64/Tennis.exe\", no_graphics = False)"
   ]
  },
  {
   "cell_type": "markdown",
   "metadata": {},
   "source": [
    "### Get Environment Brain an examine environment"
   ]
  },
  {
   "cell_type": "code",
   "execution_count": 4,
   "metadata": {},
   "outputs": [
    {
     "name": "stdout",
     "output_type": "stream",
     "text": [
      "Number of agents: 2\n",
      "Size of each action: 2\n",
      "There are 2 agents. Each observes a state with length: 24\n",
      "The state for the first agent looks like: [ 0.          0.          0.          0.          0.          0.\n",
      "  0.          0.          0.          0.          0.          0.\n",
      "  0.          0.          0.          0.         -6.65278625 -1.5\n",
      " -0.          0.          6.83172083  6.         -0.          0.        ]\n"
     ]
    }
   ],
   "source": [
    "# get the default brain\n",
    "brain_name = env.brain_names[0]\n",
    "brain = env.brains[brain_name]\n",
    "\n",
    "# reset the environment\n",
    "env_info = env.reset(train_mode=True)[brain_name]\n",
    "\n",
    "# number of agents \n",
    "num_agents = len(env_info.agents)\n",
    "print('Number of agents:', num_agents)\n",
    "\n",
    "# size of each action\n",
    "action_size = brain.vector_action_space_size\n",
    "print('Size of each action:', action_size)\n",
    "\n",
    "# examine the state space \n",
    "states = env_info.vector_observations\n",
    "state_size = states.shape[1]\n",
    "print('There are {} agents. Each observes a state with length: {}'.format(states.shape[0], state_size))\n",
    "print('The state for the first agent looks like:', states[0])"
   ]
  },
  {
   "cell_type": "markdown",
   "metadata": {},
   "source": [
    "## Actor-Critic Neural Network Definitions\n",
    "### Imports for Neural Network Definitions"
   ]
  },
  {
   "cell_type": "code",
   "execution_count": 5,
   "metadata": {},
   "outputs": [],
   "source": [
    "import numpy as np\n",
    "\n",
    "import torch.nn as nn\n",
    "import torch.nn.functional as F\n",
    "\n",
    "def hidden_init(layer):\n",
    "    fan_in = layer.weight.data.size()[0]\n",
    "    lim = 1. / np.sqrt(fan_in)\n",
    "    return (-lim, lim)"
   ]
  },
  {
   "cell_type": "markdown",
   "metadata": {},
   "source": [
    "### Define Actor Neural Network"
   ]
  },
  {
   "cell_type": "code",
   "execution_count": 6,
   "metadata": {},
   "outputs": [],
   "source": [
    "class Actor(nn.Module):\n",
    "    \"\"\"Actor (Policy) Model.\"\"\"\n",
    "    \n",
    "    def __init__(self, state_size, action_size, seed, fc1_units = 256, fc2_units = 128):\n",
    "        \"\"\"Initialize parameters and build model.\n",
    "        Params\n",
    "        ======\n",
    "            state_size (int): Dimension of each state\n",
    "            action_size (int): Dimension of each action\n",
    "            seed (int): Random seed\n",
    "            fc1_units (int): Number of nodes in first hidden layer\n",
    "            fc2_units (int): Number of nodes in second hidden layer\n",
    "        \"\"\"\n",
    "        super(Actor, self).__init__()\n",
    "        self.seed = torch.manual_seed(seed)\n",
    "        self.fc1 = nn.Linear(state_size, fc1_units)\n",
    "        self.fc2 = nn.Linear(fc1_units, fc2_units)\n",
    "        self.fc3 = nn.Linear(fc2_units, action_size)\n",
    "        self.reset_parameters()\n",
    "        \n",
    "    def reset_parameters(self):\n",
    "        self.fc1.weight.data.uniform_(*hidden_init(self.fc1))\n",
    "        self.fc2.weight.data.uniform_(*hidden_init(self.fc2))\n",
    "        self.fc3.weight.data.uniform_(-3e-3, 3e-3)\n",
    "        \n",
    "    def forward(self, state):\n",
    "        \"\"\"Build an actor (policy) network that maps states -> actions.\"\"\"\n",
    "        x = F.relu(self.fc1(state))\n",
    "        x = F.relu(self.fc2(x))\n",
    "        return torch.tanh(self.fc3(x))"
   ]
  },
  {
   "cell_type": "markdown",
   "metadata": {},
   "source": [
    "### Define Critic Network"
   ]
  },
  {
   "cell_type": "code",
   "execution_count": 7,
   "metadata": {},
   "outputs": [],
   "source": [
    "class Critic(nn.Module):\n",
    "    \"\"\"Critic (Value) Model.\"\"\"\n",
    "\n",
    "    def __init__(self, state_size, action_size, seed, fcs1_units=256, fc2_units=128):\n",
    "        \"\"\"Initialize parameters and build model.\n",
    "        Params\n",
    "        ======\n",
    "            state_size (int): Dimension of each state\n",
    "            action_size (int): Dimension of each action\n",
    "            seed (int): Random seed\n",
    "            fcs1_units (int): Number of nodes in the first hidden layer\n",
    "            fc2_units (int): Number of nodes in the second hidden layer\n",
    "        \"\"\"\n",
    "        super(Critic, self).__init__()\n",
    "        self.seed = torch.manual_seed(seed)\n",
    "        self.fcs1 = nn.Linear(state_size, fcs1_units)\n",
    "        self.fc2 = nn.Linear(fcs1_units+action_size, fc2_units)\n",
    "        self.fc3 = nn.Linear(fc2_units, 1)\n",
    "        self.reset_parameters()\n",
    "\n",
    "    def reset_parameters(self):\n",
    "        self.fcs1.weight.data.uniform_(*hidden_init(self.fcs1))\n",
    "        self.fc2.weight.data.uniform_(*hidden_init(self.fc2))\n",
    "        self.fc3.weight.data.uniform_(-3e-3, 3e-3)\n",
    "\n",
    "    def forward(self, state, action):\n",
    "        \"\"\"Build a critic (value) network that maps (state, action) pairs -> Q-values.\"\"\"\n",
    "        xs = F.relu(self.fcs1(state))\n",
    "        x = torch.cat((xs, action), dim=1)\n",
    "        x = F.relu(self.fc2(x))\n",
    "        return self.fc3(x)"
   ]
  },
  {
   "cell_type": "markdown",
   "metadata": {},
   "source": [
    "## Agent Definition\n",
    "\n",
    "### Imports\n"
   ]
  },
  {
   "cell_type": "code",
   "execution_count": 8,
   "metadata": {},
   "outputs": [],
   "source": [
    "import random\n",
    "from collections import namedtuple, deque\n",
    "import torch.optim as optim\n",
    "import copy"
   ]
  },
  {
   "cell_type": "markdown",
   "metadata": {},
   "source": [
    "### Noise Function"
   ]
  },
  {
   "cell_type": "code",
   "execution_count": 9,
   "metadata": {},
   "outputs": [],
   "source": [
    "class ActionNoise(object):\n",
    "    def reset(self):\n",
    "        pass\n",
    "\n",
    "# Based on http://math.stackexchange.com/questions/1287634/implementing-ornstein-uhlenbeck-in-matlab\n",
    "class OrnsteinUhlenbeckActionNoise(ActionNoise):\n",
    "    def __init__(self, mu, sigma, theta=.15, dt=1e-2, x0=None):\n",
    "        self.theta = theta\n",
    "        self.mu = mu\n",
    "        self.sigma = sigma\n",
    "        self.dt = dt\n",
    "        self.x0 = x0\n",
    "        self.reset()\n",
    "\n",
    "    def sample(self):\n",
    "        x = self.x_prev + self.theta * (self.mu - self.x_prev) * self.dt + self.sigma * np.sqrt(self.dt) * np.random.normal(size=self.mu.shape)\n",
    "        self.x_prev = x\n",
    "        return x\n",
    "\n",
    "    def reset(self):\n",
    "        self.x_prev = self.x0 if self.x0 is not None else np.zeros_like(self.mu)\n",
    "\n",
    "    def __repr__(self):\n",
    "        return 'OrnsteinUhlenbeckActionNoise(mu={}, sigma={})'.format(self.mu, self.sigma)\n",
    "\n",
    "class OUNoise:\n",
    "    \"\"\"Ornstein-Uhlenbeck process.\"\"\"\n",
    "\n",
    "    def __init__(self, size, seed, mu=0., theta=0.15, sigma=0.2):\n",
    "        \"\"\"Initialize parameters and noise process.\"\"\"\n",
    "        self.size = size\n",
    "        self.mu = mu * np.ones(size)\n",
    "        self.theta = theta\n",
    "        self.sigma = sigma\n",
    "        self.seed = random.seed(seed)\n",
    "        self.reset()\n",
    "\n",
    "    def reset(self):\n",
    "        \"\"\"Reset the internal state (= noise) to mean (mu).\"\"\"\n",
    "        self.state = copy.copy(self.mu)\n",
    "\n",
    "    def sample(self):\n",
    "        \"\"\"Update internal state and return it as a noise sample.\"\"\"\n",
    "        x = dx\n",
    "        dx = self.theta * (self.mu - x) + self.sigma * np.array([random.random() for i in range(len(x))])\n",
    "        self.state = x + dx\n",
    "        \n",
    "        #print(self.state)\n",
    "        return self.state"
   ]
  },
  {
   "cell_type": "markdown",
   "metadata": {},
   "source": [
    "## Replay Buffer"
   ]
  },
  {
   "cell_type": "code",
   "execution_count": 10,
   "metadata": {},
   "outputs": [],
   "source": [
    "class ReplayBuffer:\n",
    "    def __init__(self, action_size, replay_buffer_size, batch_size, seed):\n",
    "        self.batch_size = batch_size\n",
    "        self.seed = random.seed(seed)\n",
    "        self.action_size = action_size\n",
    "        self.memory = deque(maxlen=replay_buffer_size)\n",
    "        self.experience = namedtuple(\"Experience\", field_names=[\"state\", \"action\", \"reward\", \"next_state\", \"done\"])\n",
    "\n",
    "    def add(self, state, action, reward, next_state, done):\n",
    "        exp = self.experience(state, action, reward, next_state, done)\n",
    "        self.memory.append(exp)\n",
    "\n",
    "    def sample(self):\n",
    "        experiences = random.sample(self.memory, k=self.batch_size)\n",
    "\n",
    "        states = torch.from_numpy(np.vstack([ex.state for ex in experiences if ex is not None])\n",
    "                                 ).float().to(device)\n",
    "        actions = torch.from_numpy(np.vstack([ex.action for ex in experiences if ex is not None])\n",
    "                                  ).float().to(device)\n",
    "        rewards = torch.from_numpy(np.vstack([ex.reward for ex in experiences if ex is not None])\n",
    "                                  ).float().to(device)\n",
    "        next_states = torch.from_numpy(np.vstack([ex.next_state for ex in experiences if ex is not None])\n",
    "                                      ).float().to(device)\n",
    "        dones = torch.from_numpy(np.vstack([ex.done for ex in experiences if ex is not None]).astype(np.uint8)\n",
    "                                ).float().to(device)\n",
    "\n",
    "        return (states, actions, rewards, next_states, dones)\n",
    "\n",
    "    def __len__(self):\n",
    "        return len(self.memory)"
   ]
  },
  {
   "cell_type": "markdown",
   "metadata": {},
   "source": [
    "## Define DDPG Agent"
   ]
  },
  {
   "cell_type": "code",
   "execution_count": 11,
   "metadata": {},
   "outputs": [],
   "source": [
    "class Agent():\n",
    "    def __init__(self, \n",
    "                 memory,\n",
    "                 state_size, \n",
    "                 action_size,\n",
    "                 actor_lr,                 \n",
    "                 critic_local,\n",
    "                 critic_target,\n",
    "                 critic_optimiser,\n",
    "                 batch_size,\n",
    "                 n_learn,\n",
    "                 learn_every,\n",
    "                 tau,\n",
    "                 gamma = 0.99, \n",
    "                 fcs1_units=256, \n",
    "                 fc2_units=128, \n",
    "                 seed=0,\n",
    "                 mu=0., \n",
    "                 theta=0.15, \n",
    "                 sigma=0.2,\n",
    "                 decay = 0.\n",
    "                 ):\n",
    "        \n",
    "        self.state_size = state_size\n",
    "        self.action_size = action_size\n",
    "        self.seed = random.seed(seed)\n",
    "        \n",
    "        self.batch_size = batch_size\n",
    "        self.n_learn = n_learn\n",
    "        self.learn_every = learn_every\n",
    "        \n",
    "        self.decay = decay\n",
    "        self.gamma = gamma\n",
    "        self.tau = tau\n",
    "\n",
    "        # Actor\n",
    "        self.actor_local = Actor(state_size, action_size, seed, fcs1_units, fc2_units).to(device)\n",
    "        self.actor_target = Actor(state_size, action_size, seed, fcs1_units, fc2_units).to(device)\n",
    "        self.actor_optimizer = optim.Adam(self.actor_local.parameters(),lr=actor_lr)\n",
    "            \n",
    "        self.critic_local = critic_local\n",
    "        self.critic_target = critic_target\n",
    "        self.critic_optimizer = critic_optimizer\n",
    "\n",
    "        # Noise\n",
    "        self.noise = OrnsteinUhlenbeckActionNoise(mu=np.zeros(action_size), sigma = float(0.2) * np.ones(action_size),theta = theta, dt=1e-2)\n",
    "\n",
    "        # Replay Memory\n",
    "        self.memory = memory\n",
    "        \n",
    "    def step(self, time_step):\n",
    "        if time_step % self.learn_every == 0:\n",
    "            if len(self.memory) > self.batch_size:\n",
    "                for i in range(self.n_learn):\n",
    "                    experiences = self.memory.sample()\n",
    "                    self.learn(experiences)\n",
    "\n",
    "    def act(self, state, add_noise=True):\n",
    "        state = torch.from_numpy(state).float().to(device)\n",
    "        self.actor_local.eval()\n",
    "        with torch.no_grad():\n",
    "            action = self.actor_local(state).cpu().data.numpy()\n",
    "        self.actor_local.train()\n",
    "        if add_noise:\n",
    "            action += self.noise.sample()\n",
    "        return np.clip(action, -1, 1)\n",
    "\n",
    "    def reset(self):\n",
    "        self.noise.reset()\n",
    "\n",
    "    def learn(self, experiences):\n",
    "        states, actions, rewards, next_states, dones = experiences\n",
    "\n",
    "        # ---------------------------- update critic ---------------------------- #\n",
    "        # Get predicted next-state actions and Q values from target models\n",
    "        actions_next = self.actor_target(next_states)\n",
    "        Q_targets_next = self.critic_target(next_states, actions_next)\n",
    "        \n",
    "        # Compute Q targets for current states (y_i)\n",
    "        Q_targets = rewards + (self.gamma  * Q_targets_next * (1 - dones))\n",
    "        \n",
    "        # Compute critic loss\n",
    "        Q_expected = self.critic_local(states, actions)\n",
    "        critic_loss = F.mse_loss(Q_expected, Q_targets)\n",
    "        \n",
    "        # Minimize loss\n",
    "        self.critic_optimizer.zero_grad()\n",
    "        critic_loss.backward()\n",
    "        torch.nn.utils.clip_grad_norm_(self.critic_local.parameters(), 1)\n",
    "        self.critic_optimizer.step()\n",
    "\n",
    "        # ---------------------------- update actor ---------------------------- #\n",
    "        # Compute actor loss\n",
    "        actions_pred = self.actor_local(states)\n",
    "        actor_loss = -self.critic_local(states, actions_pred).mean()\n",
    "        \n",
    "        # Minimize loss\n",
    "        self.actor_optimizer.zero_grad()\n",
    "        actor_loss.backward()\n",
    "        self.actor_optimizer.step()\n",
    "\n",
    "        # ----------------------- update target networks ----------------------- #\n",
    "        self.soft_update(self.critic_local, self.critic_target)\n",
    "        self.soft_update(self.actor_local, self.actor_target)\n",
    "\n",
    "    def soft_update(self, local_model, target_model):\n",
    "        for target_param, local_param in zip(target_model.parameters(), local_model.parameters()):\n",
    "            target_param.data.copy_(self.tau *local_param.data + (1.0-self.tau )*target_param.data)"
   ]
  },
  {
   "cell_type": "code",
   "execution_count": 12,
   "metadata": {},
   "outputs": [],
   "source": [
    "# fill replay buffer with rnd actions\n",
    "\n",
    "def init_replay_buffer(env, memory, steps):\n",
    "    for i in range(1, steps):                                      # play game for 5 episodes\n",
    "        env_info = env.reset(train_mode=True)[brain_name]     # reset the environment    \n",
    "        states = env_info.vector_observations                  # get the current state (for each agent)\n",
    "        scores = np.zeros(num_agents)                          # initialize the score (for each agent)\n",
    "        while True:\n",
    "            actions = np.random.randn(num_agents, action_size) # select an action (for each agent)\n",
    "            actions = np.clip(actions, -1, 1)                  # all actions between -1 and 1\n",
    "            env_info = env.step(actions)[brain_name]           # send all actions to tne environment\n",
    "            next_states = env_info.vector_observations         # get next state (for each agent)\n",
    "            rewards = np.asarray(env_info.rewards)\n",
    "            dones = np.asarray(env_info.local_done)                        # see if episode finished\n",
    "            [memory.add(states[i], actions[i], rewards[i], next_states[i], dones[i]) for i in range(num_agents)]\n",
    "            \n",
    "            scores += env_info.rewards                         # update the score (for each agent)\n",
    "            states = next_states                               # roll over states to next time step\n",
    "            if np.any(dones):                                  # exit loop if episode finished\n",
    "                break"
   ]
  },
  {
   "cell_type": "code",
   "execution_count": 13,
   "metadata": {},
   "outputs": [],
   "source": [
    "def ddpg(agents, memory, n_episodes=500, max_t=1000, print_every=100):\n",
    "    scores_deque = deque(maxlen=print_every)\n",
    "    scores_buffer0 =[]\n",
    "    scores_buffer1 =[]\n",
    "    total_scores = []\n",
    "    train = False;\n",
    "    t = 0\n",
    "    print(\"LR_ACTOR:{:.5f}\\tLR_CRITIC{:.5f}\\tTAU:{:.2f}\\tSEED:{}\".format(LR_ACTOR, LR_CRITIC, TAU, SEED))\n",
    "    init_replay_buffer(env, memory, REPLAY_INIT_STEPS)\n",
    "    \n",
    "    for i_episode in range(1, n_episodes+1):\n",
    "        env_info = env.reset(train_mode=True)[brain_name]            # reset the environment\n",
    "        [agents[i].reset() for i in range(len(agents))]\n",
    "        states = env_info.vector_observations\n",
    "        scores = np.zeros(num_agents)\n",
    "                \n",
    "        while True:\n",
    "            t = t + 1\n",
    "            \n",
    "            actions = np.array([agents[i].act(states[i], add_noise=True) for i in range(num_agents)])\n",
    "            \n",
    "            env_info = env.step( actions )[brain_name]\n",
    "            \n",
    "            next_states = env_info.vector_observations\n",
    "            rewards = env_info.rewards\n",
    "            dones = env_info.local_done\n",
    "            \n",
    "            [memory.add(states[i], actions[i], rewards[i], next_states[i], dones[i]) for i in range(num_agents)]\n",
    "            \n",
    "            [agents[i].step(t) for i in range(num_agents)]\n",
    "            \n",
    "            states = next_states\n",
    "            scores += rewards\n",
    "            score = np.max(scores)\n",
    "            \n",
    "                       \n",
    "            if np.any( dones ): \n",
    "                break \n",
    "        scores_deque.append(score)\n",
    "        scores_buffer0.append(scores[0])\n",
    "        scores_buffer1.append(scores[1]) \n",
    "        \n",
    "        total_scores.append(score)\n",
    "        \n",
    "        print('\\rEpisode {}\\tScore0: {:.2f}\\tScore1: {:.2f}\\tMax:{:.2f}\\tAverage Score: {:.2f}'.format(i_episode, np.mean(scores_buffer0[len(scores_buffer0) - 1]) , np.mean(scores_buffer1[len(scores_buffer1) - 1]), score ,np.mean(scores_deque)), end=\"\")\n",
    "        for i in range(num_agents):\n",
    "            torch.save(agents[i].actor_local.state_dict(), 'checkpoint_actor{}.pth'.format(i))\n",
    "        torch.save(critic_local.state_dict(), 'checkpoint_critic.pth')\n",
    "        if i_episode % print_every == 0:\n",
    "            #tau = tau+0.1\n",
    "            print('\\rEpisode {}\\tAverage Score: {:.2f}                                      '.format(i_episode, np.mean(scores_deque)))\n",
    "        if(np.mean(scores_deque) > 0.5):\n",
    "            break\n",
    "            \n",
    "    return scores_buffer0, scores_buffer1, total_scores, scores_deque"
   ]
  },
  {
   "cell_type": "markdown",
   "metadata": {},
   "source": [
    "## Set Hyperparameters"
   ]
  },
  {
   "cell_type": "code",
   "execution_count": 14,
   "metadata": {},
   "outputs": [],
   "source": [
    "BUFFER_SIZE = int(1e5)  # replay buffer size\n",
    "BATCH_SIZE = 1024       # minibatch size\n",
    "GAMMA = 0.99            # discount factor\n",
    "TAU = 1e-2      # for soft update of target parameters\n",
    "LR_ACTOR = 1e-3        # learning rate of the actor \n",
    "LR_CRITIC = 1e-3     # learning rate of the critic\n",
    "WEIGHT_DECAY = 0.       # weight decay\n",
    "NO_LEARN = 20\n",
    "LEARN_EVERY = 20\n",
    "REPLAY_INIT_STEPS = 1024\n",
    "SEED = 8\n",
    "\n",
    "MU = 0.\n",
    "THETA = 0.15\n",
    "SIGMA = 0.2\n",
    "\n",
    "ACTOR_FC1 = 500\n",
    "ACTOR_FC2 = 500\n",
    "\n",
    "CRITIC_FC1 = 500\n",
    "CRITIC_FC2 = 500\n",
    "\n",
    "N_EPISODES = 1000\n",
    "\n",
    "MAX_T = 1000\n",
    "\n"
   ]
  },
  {
   "cell_type": "markdown",
   "metadata": {},
   "source": [
    "## Create Agent and run Training"
   ]
  },
  {
   "cell_type": "code",
   "execution_count": 15,
   "metadata": {},
   "outputs": [],
   "source": [
    "critic_local = Critic(state_size, action_size, SEED, CRITIC_FC1, CRITIC_FC2).to(device)\n",
    "critic_target = Critic(state_size, action_size, SEED, CRITIC_FC1, CRITIC_FC2).to(device)\n",
    "critic_optimizer = optim.Adam(critic_local.parameters(), lr=LR_CRITIC, weight_decay=WEIGHT_DECAY)\n",
    "\n",
    "memory = ReplayBuffer(action_size, BUFFER_SIZE, BATCH_SIZE, SEED)\n",
    "\n",
    "Agents = np.array([Agent(memory,\n",
    "                         state_size,\n",
    "                         action_size, \n",
    "                         LR_ACTOR,                 \n",
    "                         critic_local,\n",
    "                         critic_target,\n",
    "                         critic_optimizer,\n",
    "                         BATCH_SIZE,\n",
    "                         NO_LEARN,\n",
    "                         LEARN_EVERY,\n",
    "                         TAU,\n",
    "                         GAMMA, \n",
    "                         ACTOR_FC1, \n",
    "                         ACTOR_FC2, \n",
    "                         SEED,\n",
    "                         MU, \n",
    "                         THETA, \n",
    "                         SIGMA,\n",
    "                         WEIGHT_DECAY\n",
    "                         ) for i in range(num_agents)])"
   ]
  },
  {
   "cell_type": "code",
   "execution_count": 16,
   "metadata": {},
   "outputs": [
    {
     "name": "stdout",
     "output_type": "stream",
     "text": [
      "LR_ACTOR:0.00100\tLR_CRITIC0.00100\tTAU:0.01\tSEED:8\n",
      "Episode 100\tAverage Score: 0.00                                      \n",
      "Episode 200\tAverage Score: 0.04                                      \n",
      "Episode 300\tAverage Score: 0.04                                      \n",
      "Episode 400\tAverage Score: 0.09                                      \n",
      "Episode 500\tAverage Score: 0.12                                      \n",
      "Episode 600\tAverage Score: 0.29                                      \n",
      "Episode 643\tScore0: 0.80\tScore1: 0.79\tMax:0.80\tAverage Score: 0.508"
     ]
    }
   ],
   "source": [
    "scores0, scores1, combined, average100 = ddpg(Agents, memory, N_EPISODES, MAX_T, print_every=100)"
   ]
  },
  {
   "cell_type": "code",
   "execution_count": 53,
   "metadata": {},
   "outputs": [
    {
     "data": {
      "image/png": "[encoded data removed]",
      "text/plain": [
       "<Figure size 432x288 with 1 Axes>"
      ]
     },
     "metadata": {
      "needs_background": "light"
     },
     "output_type": "display_data"
    },
    {
     "name": "stdout",
     "output_type": "stream",
     "text": [
      "0 Solved at Episode:  642\n"
     ]
    }
   ],
   "source": [
    "import matplotlib.pyplot as plt\n",
    "\n",
    "fig = plt.figure()\n",
    "scores_average = []\n",
    "pass_episode = 0\n",
    "\n",
    "average_over = 100\n",
    "average_buffer = deque(maxlen=100)\n",
    "running_score_history = []\n",
    "\n",
    "for i in range(len(combined)):\n",
    "    average_buffer.append(combined[i])\n",
    "    scores_average.append(np.mean(average_buffer));\n",
    "    if(scores_average[i] >= 0.5 and pass_episode == 0):\n",
    "        pass_episode = i;\n",
    "    \n",
    "ax = fig.add_subplot(111)\n",
    "#plt.plot(np.arange(1, len(scores_average0)+1), scores_average0, 'b')\n",
    "#plt.plot(np.arange(1, len(scores_average1)+1), scores_average1, 'g')\n",
    "plt.plot(np.arange(1, len(scores_average)+1), scores_average, 'g')\n",
    "\n",
    "plt.axhline(0.5,0,150, color='r', linewidth=2.0 ,alpha=0.4 )\n",
    "plt.axvline(pass_episode,0,40, color='r', linewidth=2.0, alpha=0.4 )\n",
    "plt.ylabel('Score')\n",
    "plt.xlabel('Episode #')\n",
    "plt.show()\n",
    "print(\"0 Solved at Episode: \", pass_episode);"
   ]
  },
  {
   "cell_type": "code",
   "execution_count": null,
   "metadata": {},
   "outputs": [],
   "source": []
  },
  {
   "cell_type": "code",
   "execution_count": null,
   "metadata": {},
   "outputs": [],
   "source": []
  },
  {
   "cell_type": "code",
   "execution_count": null,
   "metadata": {},
   "outputs": [],
   "source": []
  }
 ],
 "metadata": {
  "kernelspec": {
   "display_name": "drlnd",
   "language": "python",
   "name": "drlnd"
  },
  "language_info": {
   "codemirror_mode": {
    "name": "ipython",
    "version": 3
   },
   "file_extension": ".py",
   "mimetype": "text/x-python",
   "name": "python",
   "nbconvert_exporter": "python",
   "pygments_lexer": "ipython3",
   "version": "3.6.8"
  }
 },
 "nbformat": 4,
 "nbformat_minor": 2
}
